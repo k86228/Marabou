{
  "metadata": {
    "kernelspec": {
      "name": "python3",
      "language": "python",
      "display_name": "Python 3"
    },
    "language_info": {
      "file_extension": ".py",
      "codemirror_mode": {
        "version": 3,
        "name": "ipython"
      },
      "name": "python",
      "mimetype": "text/x-python",
      "nbconvert_exporter": "python",
      "pygments_lexer": "ipython3",
      "version": "3.5.2"
    }
  },
  "nbformat": 4,
  "cells": [
    {
      "metadata": {
        "collapsed": false
      },
      "cell_type": "code",
      "execution_count": null,
      "outputs": [],
      "source": [
        "%matplotlib inline"
      ]
    },
    {
      "metadata": {},
      "cell_type": "markdown",
      "source": [
        "\nNNet Example\n====================\n\nTop contributors (to current version):\n  - Christopher Lazarus\n  - Kyle Julian\n  \nThis file is part of the Marabou project.\nCopyright (c) 2017-2019 by the authors listed in the file AUTHORS\nin the top-level source directory) and their institutional affiliations.\nAll rights reserved. See the file COPYING in the top-level source\ndirectory for licensing information.\n\n"
      ]
    },
    {
      "metadata": {
        "collapsed": false
      },
      "cell_type": "code",
      "execution_count": null,
      "outputs": [],
      "source": [
        "import sys\nimport numpy as np\n\n## %\n# Path to Marabou folder if you did not export it\n\n# sys.path.append('/home/USER/git/Marabou')\nfrom maraboupy import Marabou"
      ]
    },
    {
      "metadata": {},
      "cell_type": "markdown",
      "source": [
        "Path to NNet file\n\n"
      ]
    },
    {
      "metadata": {
        "collapsed": false
      },
      "cell_type": "code",
      "execution_count": null,
      "outputs": [],
      "source": [
        "nnetFile = \"../../src/input_parsers/acas_example/ACASXU_run2a_1_1_tiny_2.nnet\""
      ]
    },
    {
      "metadata": {},
      "cell_type": "markdown",
      "source": [
        "Load the network from NNet file, and set a lower bound on first output variable\n\n"
      ]
    },
    {
      "metadata": {
        "collapsed": false
      },
      "cell_type": "code",
      "execution_count": null,
      "outputs": [],
      "source": [
        "net1 = Marabou.read_nnet(nnetFile)\nnet1.setLowerBound(net1.outputVars[0][0], .5)"
      ]
    },
    {
      "metadata": {},
      "cell_type": "markdown",
      "source": [
        "Solve Marabou query\n\n"
      ]
    },
    {
      "metadata": {
        "collapsed": false
      },
      "cell_type": "code",
      "execution_count": null,
      "outputs": [],
      "source": [
        "vals1, stats1 = net1.solve()"
      ]
    },
    {
      "metadata": {},
      "cell_type": "markdown",
      "source": [
        "Example statistics\n\n"
      ]
    },
    {
      "metadata": {
        "collapsed": false
      },
      "cell_type": "code",
      "execution_count": null,
      "outputs": [],
      "source": [
        "stats1.getNumSplits()\nstats1.getTotalTime()"
      ]
    },
    {
      "metadata": {},
      "cell_type": "markdown",
      "source": [
        "Eval example\n\nTest that when the upper/lower bounds of input variables are fixed at the\nsame value, with no other input/output constraints, Marabou returns the \noutputs found by evaluating the network at the input point.\n\n"
      ]
    },
    {
      "metadata": {
        "collapsed": false
      },
      "cell_type": "code",
      "execution_count": null,
      "outputs": [],
      "source": [
        "inputs = np.array([-0.328422874212265,\n                    0.40932923555374146,\n                   -0.017379289492964745,\n                   -0.2747684121131897,\n                   -0.30628132820129395])\n\noutputsExpected = np.array([0.49999678, -0.18876659,  0.80778555, -2.76422264, -0.12984317])\n\nnet2 = Marabou.read_nnet(nnetFile)\noutputsMarabou = net2.evaluateWithMarabou([inputs])\nassert max(abs(outputsMarabou.flatten() - outputsExpected)) < 1e-8"
      ]
    }
  ],
  "nbformat_minor": 0
}