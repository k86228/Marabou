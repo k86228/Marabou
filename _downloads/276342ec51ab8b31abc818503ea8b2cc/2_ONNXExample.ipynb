{
  "metadata": {
    "kernelspec": {
      "name": "python3",
      "language": "python",
      "display_name": "Python 3"
    },
    "language_info": {
      "file_extension": ".py",
      "codemirror_mode": {
        "version": 3,
        "name": "ipython"
      },
      "name": "python",
      "mimetype": "text/x-python",
      "nbconvert_exporter": "python",
      "pygments_lexer": "ipython3",
      "version": "3.5.2"
    }
  },
  "nbformat": 4,
  "cells": [
    {
      "metadata": {
        "collapsed": false
      },
      "cell_type": "code",
      "execution_count": null,
      "outputs": [],
      "source": [
        "%matplotlib inline"
      ]
    },
    {
      "metadata": {},
      "cell_type": "markdown",
      "source": [
        "\nONNX Example\n====================\n\nTop contributors (to current version):\n  - Kyle Julian\n  \nThis file is part of the Marabou project.\nCopyright (c) 2017-2019 by the authors listed in the file AUTHORS\nin the top-level source directory) and their institutional affiliations.\nAll rights reserved. See the file COPYING in the top-level source\ndirectory for licensing information.\n\n"
      ]
    },
    {
      "metadata": {
        "collapsed": false
      },
      "cell_type": "code",
      "execution_count": null,
      "outputs": [],
      "source": [
        "from maraboupy import Marabou\nimport numpy as np"
      ]
    },
    {
      "metadata": {},
      "cell_type": "markdown",
      "source": [
        "Set the Marabou option to restrict printing\n\n"
      ]
    },
    {
      "metadata": {
        "collapsed": false
      },
      "cell_type": "code",
      "execution_count": null,
      "outputs": [],
      "source": [
        "options = Marabou.createOptions(verbosity = 0)"
      ]
    },
    {
      "metadata": {},
      "cell_type": "markdown",
      "source": [
        "Fully-connected network example\n-------------------------------\n\nThis network has inputs x0, x1, and was trained to create outputs that approximate\ny0 = abs(x0) + abs(x1), y1 = x0^2 + x1^2\n\n"
      ]
    },
    {
      "metadata": {
        "collapsed": false
      },
      "cell_type": "code",
      "execution_count": null,
      "outputs": [],
      "source": [
        "print(\"Fully Connected Network Example\")\nfilename = \"../../resources/onnx/fc1.onnx\"\nnetwork = Marabou.read_onnx(filename)"
      ]
    },
    {
      "metadata": {},
      "cell_type": "markdown",
      "source": [
        "Or, you can specify the operation names of the input and output operations.\nThe default chooses the placeholder operations as inputs and the last operation as output\n\n"
      ]
    },
    {
      "metadata": {
        "collapsed": false
      },
      "cell_type": "code",
      "execution_count": null,
      "outputs": [],
      "source": [
        "inputName = 'Placeholder:0'\noutputName = 'y_out:0'\nnetwork = Marabou.read_onnx(filename=filename, inputNames=[inputName], outputName = outputName)"
      ]
    },
    {
      "metadata": {},
      "cell_type": "markdown",
      "source": [
        "Get the input and output variable numbers; [0] since first dimension is batch size\n\n"
      ]
    },
    {
      "metadata": {
        "collapsed": false
      },
      "cell_type": "code",
      "execution_count": null,
      "outputs": [],
      "source": [
        "inputVars = network.inputVars[0][0]\noutputVars = network.outputVars[0]"
      ]
    },
    {
      "metadata": {},
      "cell_type": "markdown",
      "source": [
        "Set input bounds\n\n"
      ]
    },
    {
      "metadata": {
        "collapsed": false
      },
      "cell_type": "code",
      "execution_count": null,
      "outputs": [],
      "source": [
        "network.setLowerBound(inputVars[0],-10.0)\nnetwork.setUpperBound(inputVars[0], 10.0)\nnetwork.setLowerBound(inputVars[1],-10.0)\nnetwork.setUpperBound(inputVars[1], 10.0)"
      ]
    },
    {
      "metadata": {},
      "cell_type": "markdown",
      "source": [
        "Set output bounds\n\n"
      ]
    },
    {
      "metadata": {
        "collapsed": false
      },
      "cell_type": "code",
      "execution_count": null,
      "outputs": [],
      "source": [
        "network.setLowerBound(outputVars[1], 194.0)\nnetwork.setUpperBound(outputVars[1], 210.0)"
      ]
    },
    {
      "metadata": {},
      "cell_type": "markdown",
      "source": [
        "Call to Marabou solver\n\n"
      ]
    },
    {
      "metadata": {
        "collapsed": false
      },
      "cell_type": "code",
      "execution_count": null,
      "outputs": [],
      "source": [
        "vals, stats = network.solve(options = options)"
      ]
    },
    {
      "metadata": {},
      "cell_type": "markdown",
      "source": [
        "Convolutional neural network example\n------------------------------------\n\nNetwork maps 8x16 grayscale images two values\n\n"
      ]
    },
    {
      "metadata": {
        "collapsed": false
      },
      "cell_type": "code",
      "execution_count": null,
      "outputs": [],
      "source": [
        "print(\"\\nConvolutional Network Example\")\nfilename = '../../resources/onnx/KJ_TinyTaxiNet.onnx'\nnetwork = Marabou.read_onnx(filename)"
      ]
    },
    {
      "metadata": {},
      "cell_type": "markdown",
      "source": [
        "Get the input and output variable numbers; [0] since first dimension is batch size\n\n"
      ]
    },
    {
      "metadata": {
        "collapsed": false
      },
      "cell_type": "code",
      "execution_count": null,
      "outputs": [],
      "source": [
        "inputVars = network.inputVars[0][0]\noutputVars = network.outputVars[0]"
      ]
    },
    {
      "metadata": {},
      "cell_type": "markdown",
      "source": [
        "Setup a local robustness query\n\n"
      ]
    },
    {
      "metadata": {
        "collapsed": false
      },
      "cell_type": "code",
      "execution_count": null,
      "outputs": [],
      "source": [
        "delta = 0.03\nfor h in range(inputVars.shape[0]):\n    for w in range(inputVars.shape[1]):\n        network.setLowerBound(inputVars[h][w][0], 0.5-delta)\n        network.setUpperBound(inputVars[h][w][0], 0.5+delta)"
      ]
    },
    {
      "metadata": {},
      "cell_type": "markdown",
      "source": [
        "Set output bounds\n\n"
      ]
    },
    {
      "metadata": {
        "collapsed": false
      },
      "cell_type": "code",
      "execution_count": null,
      "outputs": [],
      "source": [
        "network.setLowerBound(outputVars[0], 6.0)"
      ]
    },
    {
      "metadata": {},
      "cell_type": "markdown",
      "source": [
        "Call to Marabou solver (should be SAT)\n\n"
      ]
    },
    {
      "metadata": {
        "collapsed": false
      },
      "cell_type": "code",
      "execution_count": null,
      "outputs": [],
      "source": [
        "print(\"Check query with less restrictive output constraint (Should be SAT)\")\nvals, stats = network.solve(options = options)\nassert len(vals) > 0"
      ]
    },
    {
      "metadata": {},
      "cell_type": "markdown",
      "source": [
        "Set more restrictive output bounds\n\n"
      ]
    },
    {
      "metadata": {
        "collapsed": false
      },
      "cell_type": "code",
      "execution_count": null,
      "outputs": [],
      "source": [
        "network.setLowerBound(outputVars[0], 7.0)"
      ]
    },
    {
      "metadata": {},
      "cell_type": "markdown",
      "source": [
        "Call to Marabou solver (should be UNSAT)\n\n"
      ]
    },
    {
      "metadata": {
        "collapsed": false
      },
      "cell_type": "code",
      "execution_count": null,
      "outputs": [],
      "source": [
        "print(\"Check query with more restrictive output constraint (Should be UNSAT)\")\nvals, stats = network.solve(options = options)\nassert len(vals) == 0"
      ]
    },
    {
      "metadata": {},
      "cell_type": "markdown",
      "source": [
        "Convolutional network with max-pool example\n-------------------------------------------\n\n"
      ]
    },
    {
      "metadata": {
        "collapsed": false
      },
      "cell_type": "code",
      "execution_count": null,
      "outputs": [],
      "source": [
        "print(\"\\nConvolutional Network with Max Pool Example\")\nfilename = '../../resources/onnx/conv_mp1.onnx'\nnetwork = Marabou.read_onnx(filename)"
      ]
    },
    {
      "metadata": {},
      "cell_type": "markdown",
      "source": [
        "Get the input and output variable numbers; [0] since first dimension is batch size\n\n"
      ]
    },
    {
      "metadata": {
        "collapsed": false
      },
      "cell_type": "code",
      "execution_count": null,
      "outputs": [],
      "source": [
        "inputVars = network.inputVars[0]\noutputVars = network.outputVars"
      ]
    },
    {
      "metadata": {},
      "cell_type": "markdown",
      "source": [
        "Test Marabou equations against onnxruntime at an example input point\n\n"
      ]
    },
    {
      "metadata": {
        "collapsed": false
      },
      "cell_type": "code",
      "execution_count": null,
      "outputs": [],
      "source": [
        "inputPoint = np.ones(inputVars.shape)\nmarabouEval = network.evaluateWithMarabou([inputPoint], options = options)\nonnxEval = network.evaluateWithoutMarabou([inputPoint])"
      ]
    },
    {
      "metadata": {},
      "cell_type": "markdown",
      "source": [
        "The two evaluations should produce the same result\n\n"
      ]
    },
    {
      "metadata": {
        "collapsed": false
      },
      "cell_type": "code",
      "execution_count": null,
      "outputs": [],
      "source": [
        "print(\"Marabou Evaluation:\")\nprint(marabouEval)\nprint(\"\\nONNX Evaluation:\")\nprint(onnxEval)\nprint(\"\\nDifference:\")\nprint(onnxEval - marabouEval)\nassert max(abs(onnxEval - marabouEval)) < 1e-6"
      ]
    }
  ],
  "nbformat_minor": 0
}